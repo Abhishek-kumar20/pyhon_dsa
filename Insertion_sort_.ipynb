{
  "nbformat": 4,
  "nbformat_minor": 0,
  "metadata": {
    "colab": {
      "provenance": [],
      "authorship_tag": "ABX9TyOlN6Qpni3mxPdUbtqt0iIZ",
      "include_colab_link": true
    },
    "kernelspec": {
      "name": "python3",
      "display_name": "Python 3"
    },
    "language_info": {
      "name": "python"
    }
  },
  "cells": [
    {
      "cell_type": "markdown",
      "metadata": {
        "id": "view-in-github",
        "colab_type": "text"
      },
      "source": [
        "<a href=\"https://colab.research.google.com/github/Abhishek-kumar20/pyhon_dsa/blob/main/Insertion_sort_.ipynb\" target=\"_parent\"><img src=\"https://colab.research.google.com/assets/colab-badge.svg\" alt=\"Open In Colab\"/></a>"
      ]
    },
    {
      "cell_type": "markdown",
      "source": [
        "# Strategy\n",
        "- move the 1st value in a list\n",
        "- move 2nd value to new list:\n",
        " -- place it before 1st if it is smaller than 1st value, otherwise after 1st value\n",
        "- move 3rd value to new list:\n",
        "-- Insert based on first 2 values\n",
        "- We can aviod creating a new lsit by swaping in the same\n",
        "-- Assume L[0:i] is sorted\n",
        "-- insert L[i] in L[0:i], it could be at any pos b/w 0 to i\n",
        "-- while inserting b/w o to i, move backwards from i to 0, copare i and i-1 , if i < i-1 value then swap, agin comapre i-1 and i-2 ....\n",
        "-- stop the insertion if you compared 0 and 1st position i.e. j>0\n"
      ],
      "metadata": {
        "id": "mTnfjEQDL-z4"
      }
    },
    {
      "cell_type": "code",
      "source": [
        "def InsertionSort(L):\n",
        "  n= len(L)\n",
        "\n",
        "  if n<1:\n",
        "    return L\n",
        "\n",
        "  for i in range(n):\n",
        "    #Assume L[:i] is sorted\n",
        "    #move L[i] to correct position in L\n",
        "    j=i\n",
        "    #decrese j to reach begining\n",
        "    while(j>0 and L[j]<L[j-1]):\n",
        "      (L[j],L[j-1])=(L[j-1],L[j])\n",
        "      j=j-1\n",
        "  return L"
      ],
      "metadata": {
        "id": "vnJJu0I1N9et"
      },
      "execution_count": 1,
      "outputs": []
    },
    {
      "cell_type": "code",
      "source": [
        "L=[3,2,8,1]\n",
        "print(InsertionSort(L))"
      ],
      "metadata": {
        "colab": {
          "base_uri": "https://localhost:8080/"
        },
        "id": "vFB4qus3QY5B",
        "outputId": "106e79bb-5b8a-43ee-d8ac-7eaa78f6ebd7"
      },
      "execution_count": 2,
      "outputs": [
        {
          "output_type": "stream",
          "name": "stdout",
          "text": [
            "[1, 2, 3, 8]\n"
          ]
        }
      ]
    },
    {
      "cell_type": "markdown",
      "source": [
        "# Recursive insertion sort\n"
      ],
      "metadata": {
        "id": "KK5Xx2AeSAgI"
      }
    },
    {
      "cell_type": "code",
      "source": [
        "# Function to insert in b/w\n",
        "def Insert(L,v): # L=List, v= value to be inserted\n",
        "  n =len(L)\n",
        "  if n == 0:\n",
        "    return([v])\n",
        "  if v >= L[-1]: # if v > end value of L\n",
        "    return(L+[v]) # then append in last of L\n",
        "  else:   #otherwise\n",
        "    return(Insert(L[:-1],v)+L[-1:])\n",
        "    # insert b/w 0 to 2nd last value + add the remaining value of L from last\n",
        "def ISort(L):\n",
        "  n=len(L)\n",
        "  if n<1:\n",
        "    return (L)\n",
        "  L =Insert(ISort(L[:-1]),L[-1])\n",
        "  # sort till 2nd last value and pass the last value as v\n",
        "  return(L)\n"
      ],
      "metadata": {
        "id": "pWnA1mDSQhCi"
      },
      "execution_count": 13,
      "outputs": []
    },
    {
      "cell_type": "code",
      "source": [
        "L=[3,2,8,1]\n",
        "print(ISort(L))"
      ],
      "metadata": {
        "colab": {
          "base_uri": "https://localhost:8080/"
        },
        "id": "X8ivGRbdT_kc",
        "outputId": "5dbdbb03-101b-4726-fde2-6b9bff9e5dfd"
      },
      "execution_count": 14,
      "outputs": [
        {
          "output_type": "stream",
          "name": "stdout",
          "text": [
            "[1, 2, 3, 8]\n"
          ]
        }
      ]
    },
    {
      "cell_type": "code",
      "source": [
        "#The recursive insertion sort doest not change the original list L it is like L2= sorted(L)\n",
        "# previously (iterative) it was changing the original list L its is like L.sort()\n",
        "\n"
      ],
      "metadata": {
        "id": "tonPt2WCUEdd"
      },
      "execution_count": null,
      "outputs": []
    },
    {
      "cell_type": "markdown",
      "source": [
        "- Itertaive insertion sort = O(n^2)\n",
        "- Recursive insertion sort O(max(o1 of Insert, o2 of Isort))= O(n^2)\n",
        "- However Insertion sort does not always n^2 unlike selection sort\n",
        "--becoz if the list is already sortd, Insert process stops in 1 Step\n",
        "-- overall time will be O(n)\n",
        "-- if its sorted desc it will take lot of time to sort in asc"
      ],
      "metadata": {
        "id": "c-SYd5PoWqRS"
      }
    },
    {
      "cell_type": "code",
      "source": [],
      "metadata": {
        "id": "20v3_5HtYRpH"
      },
      "execution_count": null,
      "outputs": []
    }
  ]
}
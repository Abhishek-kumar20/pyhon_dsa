{
  "nbformat": 4,
  "nbformat_minor": 0,
  "metadata": {
    "colab": {
      "provenance": [],
      "authorship_tag": "ABX9TyNoVHwGAt2LSTQQQ1vsD1o3",
      "include_colab_link": true
    },
    "kernelspec": {
      "name": "python3",
      "display_name": "Python 3"
    },
    "language_info": {
      "name": "python"
    }
  },
  "cells": [
    {
      "cell_type": "markdown",
      "metadata": {
        "id": "view-in-github",
        "colab_type": "text"
      },
      "source": [
        "<a href=\"https://colab.research.google.com/github/Abhishek-kumar20/pyhon_dsa/blob/main/python_dsa_basic.ipynb\" target=\"_parent\"><img src=\"https://colab.research.google.com/assets/colab-badge.svg\" alt=\"Open In Colab\"/></a>"
      ]
    },
    {
      "cell_type": "markdown",
      "source": [
        "# GCF or HCF\n",
        "- gcd(m,n) : greatest common divisor\n",
        "- Largest k which divides both m,n\n",
        "- gcd (m,n ) always exist:\n",
        "-- 1 will be always there as gcf for m,n\n",
        "- computing gcd(m,n)\n",
        "-- gcd(m,n) <= min(m,n)"
      ],
      "metadata": {
        "id": "G8_2NKBS2Rl9"
      }
    },
    {
      "cell_type": "code",
      "source": [
        "#method- 1\n",
        "def gcd1(m,n):\n",
        "  cf=[]\n",
        "  for i in range(1, min(m,n)+1):\n",
        "    if (m%i) == 0 and (n%i) ==0 :\n",
        "      cf.append(i)\n",
        "  return(cf[-1])"
      ],
      "metadata": {
        "id": "36DG93yQ2XmV"
      },
      "execution_count": 4,
      "outputs": []
    },
    {
      "cell_type": "code",
      "source": [
        "gcd1(81,93)"
      ],
      "metadata": {
        "colab": {
          "base_uri": "https://localhost:8080/"
        },
        "id": "cNypHyYj4GSV",
        "outputId": "c8846c0e-1c4e-46a7-a8f8-a6390ec2d161"
      },
      "execution_count": 5,
      "outputs": [
        {
          "output_type": "execute_result",
          "data": {
            "text/plain": [
              "3"
            ]
          },
          "metadata": {},
          "execution_count": 5
        }
      ]
    },
    {
      "cell_type": "code",
      "source": [
        "#method- 2\n",
        "def gcd2(m,n):\n",
        "\n",
        "  for i in range(1, min(m,n)+1):\n",
        "    if (m%i) == 0 and (n%i) ==0 :\n",
        "      largest=i\n",
        "  return(largest)"
      ],
      "metadata": {
        "id": "FPPipZSu4LH0"
      },
      "execution_count": 6,
      "outputs": []
    },
    {
      "cell_type": "code",
      "source": [
        "gcd2(81,93)\n"
      ],
      "metadata": {
        "colab": {
          "base_uri": "https://localhost:8080/"
        },
        "id": "zgOaOGyA4ggX",
        "outputId": "6c06c331-20bd-4ad1-85c5-f7693818b448"
      },
      "execution_count": 7,
      "outputs": [
        {
          "output_type": "execute_result",
          "data": {
            "text/plain": [
              "3"
            ]
          },
          "metadata": {},
          "execution_count": 7
        }
      ]
    },
    {
      "cell_type": "code",
      "source": [
        "# we will compare the time and space complexity"
      ],
      "metadata": {
        "id": "5dDcqtlI4i6E"
      },
      "execution_count": 8,
      "outputs": []
    },
    {
      "cell_type": "markdown",
      "source": [
        "# Check Primality\n",
        "- A prime number has exactly 2 factor 1 , n\n",
        "-- Note 1 is not a prime number\n",
        "- Compute:\n",
        "-- compute the list of factor of n and check whthere only 1 and n must be present"
      ],
      "metadata": {
        "id": "bCGAkpYs4-ED"
      }
    },
    {
      "cell_type": "code",
      "source": [
        "def factor(n):\n",
        "  f=[]\n",
        "  for i in range(1,n+1):\n",
        "    if n%i ==0:\n",
        "      f.append(i)\n",
        "  return(f)"
      ],
      "metadata": {
        "id": "RvPLw1t053dR"
      },
      "execution_count": 9,
      "outputs": []
    },
    {
      "cell_type": "code",
      "source": [
        "def prime(n):\n",
        "  return(factor(n) == [1,n])"
      ],
      "metadata": {
        "id": "fUs1TqZY6Wmd"
      },
      "execution_count": 10,
      "outputs": []
    },
    {
      "cell_type": "code",
      "source": [
        "prime(5)"
      ],
      "metadata": {
        "colab": {
          "base_uri": "https://localhost:8080/"
        },
        "id": "alePGeXj6kMW",
        "outputId": "56867fb0-75b7-4367-dbcc-25c259af6636"
      },
      "execution_count": 11,
      "outputs": [
        {
          "output_type": "execute_result",
          "data": {
            "text/plain": [
              "True"
            ]
          },
          "metadata": {},
          "execution_count": 11
        }
      ]
    },
    {
      "cell_type": "code",
      "source": [],
      "metadata": {
        "id": "eRDy0dGW6lj4"
      },
      "execution_count": null,
      "outputs": []
    }
  ]
}
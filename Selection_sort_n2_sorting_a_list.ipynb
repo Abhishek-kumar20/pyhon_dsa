{
  "nbformat": 4,
  "nbformat_minor": 0,
  "metadata": {
    "colab": {
      "provenance": [],
      "authorship_tag": "ABX9TyP3Uc4j8k9hfRQVHsj15W/e",
      "include_colab_link": true
    },
    "kernelspec": {
      "name": "python3",
      "display_name": "Python 3"
    },
    "language_info": {
      "name": "python"
    }
  },
  "cells": [
    {
      "cell_type": "markdown",
      "metadata": {
        "id": "view-in-github",
        "colab_type": "text"
      },
      "source": [
        "<a href=\"https://colab.research.google.com/github/Abhishek-kumar20/pyhon_dsa/blob/main/Selection_sort_n2_sorting_a_list.ipynb\" target=\"_parent\"><img src=\"https://colab.research.google.com/assets/colab-badge.svg\" alt=\"Open In Colab\"/></a>"
      ]
    },
    {
      "cell_type": "markdown",
      "source": [
        "- Sorting a list makes many other computation easier:Example helps in\n",
        "-- Binary search\n",
        "-- finding the median\n",
        "-- checking the duplicates\n",
        "-- building the frequncy table of values\n",
        "- How do we sort a list\n"
      ],
      "metadata": {
        "id": "swATUGeI5Vel"
      }
    },
    {
      "cell_type": "markdown",
      "source": [
        "# Selection Sort -slecting the min value and moving it. O(N^2)\n",
        "- Strategy 1\n",
        "-- Scan the entire pile and find the paper with min. marks\n",
        "-- Remove the min valeu from original value & move this min value in a new list at 1st position\n",
        "-- Repeat this process untill original is empty\n",
        "\n",
        "- Strategy 2\n",
        "-- Avioding to create a new lsit for storing\n",
        "-- Swap the mini value to first position\n",
        "-- swap the 2nd min value to 2nd postion and so on...\n",
        "\n"
      ],
      "metadata": {
        "id": "BnqVf-XQ6jh0"
      }
    },
    {
      "cell_type": "code",
      "source": [
        "# with strategy 2\n",
        "def SelectionSort(L):\n",
        "  n= len(L)\n",
        "  if n<1:\n",
        "    return(L)\n",
        "  for i in range(n):\n",
        "    mpos= i\n",
        "    # mpose (min position) :assuming current position is minimum and begin loop from i+1\n",
        "    # keeping looking value from next position onwards untill i find value smaller than that.\n",
        "    # than i repalce my value b/w them\n",
        "    for j in range(i+1,n):\n",
        "      if L[j]< L[mpos]:\n",
        "        mpos=j\n",
        "        #updating the position of min value\n",
        "        # Dont swap here, becoz this condition become true for 2nd min value but you need the 1st mini value\n",
        "        # therfore scan the entire range of j, till  it find the psoition of min value\n",
        "    # Swap after scaning entire L. L[mpos] is now min value, swap the value now\n",
        "    (L[i], L[mpos]) = (L[mpos], L[i])\n",
        "\n",
        "  return(L)\n",
        "\n"
      ],
      "metadata": {
        "id": "zHb98IUs6ibQ"
      },
      "execution_count": 29,
      "outputs": []
    },
    {
      "cell_type": "code",
      "source": [
        "l=[34,91,2,5]\n",
        "print(SelectionSort(l))\n"
      ],
      "metadata": {
        "colab": {
          "base_uri": "https://localhost:8080/"
        },
        "id": "Hlykw12BAEzA",
        "outputId": "df7f520b-9821-45d8-f738-5c476f6fd183"
      },
      "execution_count": 31,
      "outputs": [
        {
          "output_type": "stream",
          "name": "stdout",
          "text": [
            "[2, 5, 34, 91]\n"
          ]
        }
      ]
    },
    {
      "cell_type": "markdown",
      "source": [
        "# Efficiency of selction sort\n",
        "- Outer loop run n time\n",
        "- inner loop runs: n-1 steps to find min in L[i:]\n",
        "-- so, T(n)  = n + n-1 + n-2  +  ... +2 +1\n",
        "-- T(n) =n(n+1)/2 = O(n^2)\n",
        "- This algo. does not care wther the value is at correct position it still run from i+1 to send  "
      ],
      "metadata": {
        "id": "fW_r7sb8J4rv"
      }
    },
    {
      "cell_type": "code",
      "source": [],
      "metadata": {
        "id": "2EtqHDd0LMk8"
      },
      "execution_count": null,
      "outputs": []
    }
  ]
}
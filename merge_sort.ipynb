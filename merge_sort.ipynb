{
  "nbformat": 4,
  "nbformat_minor": 0,
  "metadata": {
    "colab": {
      "provenance": [],
      "authorship_tag": "ABX9TyOv9c7Xnaq8HCSFQsbKn4AI",
      "include_colab_link": true
    },
    "kernelspec": {
      "name": "python3",
      "display_name": "Python 3"
    },
    "language_info": {
      "name": "python"
    }
  },
  "cells": [
    {
      "cell_type": "markdown",
      "metadata": {
        "id": "view-in-github",
        "colab_type": "text"
      },
      "source": [
        "<a href=\"https://colab.research.google.com/github/Abhishek-kumar20/pyhon_dsa/blob/main/merge_sort.ipynb\" target=\"_parent\"><img src=\"https://colab.research.google.com/assets/colab-badge.svg\" alt=\"Open In Colab\"/></a>"
      ]
    },
    {
      "cell_type": "markdown",
      "source": [
        "- Both selection and insertion sort is O(n^2)\n",
        "-This is infeasible for n>10000\n",
        "- How can we bring complexities below O(n^2)\n",
        "# Merge Sort\n",
        "- Divide the list in 2 half\n",
        "- seperately sort left and right half\n",
        "- combine them\n",
        "-To combine two sorted lsits A and B into a single sorted list C\n",
        "-- if A is empty copy B to C\n",
        "-- If B is empty copy A to C\n",
        "-- compare the first element of A and B\n",
        "-- move the smaller of the two to C\n",
        "-- Repeat till you exhasust A and B\n",
        "-- We divide the list untill we get 1 element in each list and then we add list\n",
        "\n",
        "\n"
      ],
      "metadata": {
        "id": "kujM9jlGZqHD"
      }
    },
    {
      "cell_type": "code",
      "source": [
        "def merge(A,B):\n",
        "  (m,n) =(len(A),len(B))\n",
        "  (C,i,j,k)=([],0,0,0)\n",
        "   # i for A, j for B, k for C lists.\n",
        "  while k < m+n:\n",
        "    if i == m: # A is empty\n",
        "      C.extend(B[j:])\n",
        "      k= k+ (n-j)\n",
        "    elif j == n:\n",
        "      C.extend(A[i:])\n",
        "      k =k+ (n-i)\n",
        "    elif A[i] < B[j]:\n",
        "      C.append(A[i])\n",
        "      (i,k)=(i+1,k+1)\n",
        "    else:\n",
        "      C.append(B[j])\n",
        "      (j,k)=(j+1,k+1)\n",
        "  return(C)\n",
        "\n"
      ],
      "metadata": {
        "id": "5fdVL_IfA5yF"
      },
      "execution_count": 1,
      "outputs": []
    },
    {
      "cell_type": "code",
      "source": [
        "merge([8,5,1],[5,1,3])"
      ],
      "metadata": {
        "colab": {
          "base_uri": "https://localhost:8080/"
        },
        "id": "CNylD_P_EZoX",
        "outputId": "f8f696ba-b217-4217-ba58-6ea02d3404fd"
      },
      "execution_count": 2,
      "outputs": [
        {
          "output_type": "execute_result",
          "data": {
            "text/plain": [
              "[5, 1, 3, 8, 5, 1]"
            ]
          },
          "metadata": {},
          "execution_count": 2
        }
      ]
    },
    {
      "cell_type": "code",
      "source": [
        "def mergesort(A):\n",
        "  n= len(A)\n",
        "  if n<=1:\n",
        "    return A\n",
        "  L= mergesort(A[:n//2])\n",
        "  R= mergesort(A[n//2:])\n",
        "\n",
        "  B=merge(L,R)\n",
        "\n",
        "\n",
        "\n",
        "  return B"
      ],
      "metadata": {
        "id": "8UMjGXLOEiw0"
      },
      "execution_count": 60,
      "outputs": []
    },
    {
      "cell_type": "code",
      "source": [
        "mergesort([0,85,61,7,82,9])"
      ],
      "metadata": {
        "colab": {
          "base_uri": "https://localhost:8080/"
        },
        "id": "tAD7mhMSF-Oy",
        "outputId": "fdc45a15-bb86-42e7-c879-f43c2b4eaa86"
      },
      "execution_count": 61,
      "outputs": [
        {
          "output_type": "execute_result",
          "data": {
            "text/plain": [
              "[0, 7, 9, 61, 82, 85]"
            ]
          },
          "metadata": {},
          "execution_count": 61
        }
      ]
    },
    {
      "cell_type": "code",
      "source": [],
      "metadata": {
        "id": "gwoQtuNiGCDl"
      },
      "execution_count": null,
      "outputs": []
    }
  ]
}
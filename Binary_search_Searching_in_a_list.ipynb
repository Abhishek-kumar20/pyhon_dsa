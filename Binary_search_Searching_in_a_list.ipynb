{
  "nbformat": 4,
  "nbformat_minor": 0,
  "metadata": {
    "colab": {
      "provenance": [],
      "authorship_tag": "ABX9TyO8GU1YkcDkbhiCVLdvEn81",
      "include_colab_link": true
    },
    "kernelspec": {
      "name": "python3",
      "display_name": "Python 3"
    },
    "language_info": {
      "name": "python"
    }
  },
  "cells": [
    {
      "cell_type": "markdown",
      "metadata": {
        "id": "view-in-github",
        "colab_type": "text"
      },
      "source": [
        "<a href=\"https://colab.research.google.com/github/Abhishek-kumar20/pyhon_dsa/blob/main/Binary_search_Searching_in_a_list.ipynb\" target=\"_parent\"><img src=\"https://colab.research.google.com/assets/colab-badge.svg\" alt=\"Open In Colab\"/></a>"
      ]
    },
    {
      "cell_type": "markdown",
      "source": [
        "# Search problem\n",
        "- Is value v present in list 'l'\n"
      ],
      "metadata": {
        "id": "oaRPzfXPyjpr"
      }
    },
    {
      "cell_type": "code",
      "source": [
        "# Basic solution\n",
        "def basic_search(v,l):\n",
        "  for x in l:\n",
        "    if v ==x:\n",
        "      return True\n",
        "  return False\n",
        "\n",
        "#input size = n\n",
        "# worst case complexity o(n)"
      ],
      "metadata": {
        "id": "j4fwMTzCy4K1"
      },
      "execution_count": 3,
      "outputs": []
    },
    {
      "cell_type": "markdown",
      "source": [
        "- What if l is sorted in ascending order, then:\n",
        "- compare v with the midpoint of 'l':\n",
        "-- if v== mid point, than value found\n",
        "-- if v < mid point, search first half\n",
        "-- if v > mid point serach second half\n",
        "-- stop when the value is found or interval to search becomes empty\n"
      ],
      "metadata": {
        "id": "4Pl6pTaVzYzj"
      }
    },
    {
      "cell_type": "markdown",
      "source": [
        "# Binary search"
      ],
      "metadata": {
        "id": "_nwm8lmX0XXG"
      }
    },
    {
      "cell_type": "code",
      "source": [
        "def binarysearch(v,l):\n",
        "  if l== []:\n",
        "    return (False)\n",
        "\n",
        "  m = len(l)//2\n",
        "\n",
        "  if v == l[m]:   # it will search at m\n",
        "    return True\n",
        "  elif v < l[m]:\n",
        "    return (binarysearch(v,l[:m])) # it will go from 0 to m-1\n",
        "  else:\n",
        "    return(binarysearch(v,l[m+1:])) # it will go from m+1 to end\n",
        "\n",
        "# Binary search will take log2(n) time , becoz we everytime divide by //2\n"
      ],
      "metadata": {
        "id": "AwmuYj8yzXZN"
      },
      "execution_count": 4,
      "outputs": []
    },
    {
      "cell_type": "code",
      "source": [],
      "metadata": {
        "id": "Gic7ONad1QHk"
      },
      "execution_count": null,
      "outputs": []
    }
  ]
}